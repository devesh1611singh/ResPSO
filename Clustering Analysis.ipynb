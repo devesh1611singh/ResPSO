{
 "cells": [
  {
   "cell_type": "code",
   "execution_count": 1,
   "metadata": {},
   "outputs": [],
   "source": [
    "from __future__ import division\n",
    "\n",
    "import random\n",
    "import math\n",
    "import csv\n",
    "import matplotlib.pyplot as plt\n",
    "import numpy as np\n",
    "from timeit import default_timer as timer\n",
    "import argparse\n",
    "import pandas as pd\n",
    "import seaborn as sns\n",
    "\n",
    "import torch\n",
    "import torch.nn as nn\n",
    "import torch.optim as optim\n",
    "from torch.autograd import Variable\n",
    "from torch.utils.data import DataLoader\n",
    "from torch.utils.data import sampler\n",
    "\n",
    "import torchvision.datasets as dset\n",
    "import torchvision.transforms as T\n",
    "import torch.nn.functional as F\n",
    "from torchsummary import summary \n",
    "\n",
    "# from torch.utils.tensorboard import SummaryWriter"
   ]
  },
  {
   "cell_type": "code",
   "execution_count": 2,
   "metadata": {},
   "outputs": [],
   "source": [
    "import itertools\n",
    "import numpy as np\n",
    "import pickle\n",
    "import random\n",
    "import os\n"
   ]
  },
  {
   "cell_type": "markdown",
   "metadata": {},
   "source": [
    "# EVALUATION"
   ]
  },
  {
   "cell_type": "markdown",
   "metadata": {},
   "source": [
    "## Confusion Matrix"
   ]
  },
  {
   "cell_type": "code",
   "execution_count": null,
   "metadata": {
    "collapsed": true
   },
   "outputs": [],
   "source": [
    "def ClassAcc(confusion_matrix):\n",
    "    return confusion_matrix.diag()/confusion_matrix.sum(1)"
   ]
  },
  {
   "cell_type": "code",
   "execution_count": null,
   "metadata": {
    "collapsed": true
   },
   "outputs": [],
   "source": [
    "def confusion(model, loader, classes = 10):\n",
    "    confusion_matrix = torch.zeros(classes, classes)\n",
    "    global gpu_dtype\n",
    "    global PSO_instance\n",
    "    \n",
    "    with torch.no_grad():\n",
    "        model.eval()\n",
    "        for i, (X, y) in enumerate(loader):\n",
    "#             print(i)\n",
    "            X = X.type(gpu_dtype)\n",
    "            y = y.type(gpu_dtype)\n",
    "            \n",
    "            PSO_instance = PSO()\n",
    "            outputs = model(X)\n",
    "            preds = torch.argmax(outputs, dim=1)\n",
    "            for t, p in zip(y.view(-1), preds.view(-1)):\n",
    "                    confusion_matrix[t.long(), p.long()] += 1\n",
    "\n",
    "    return(confusion_matrix.type(torch.IntTensor))     #torch.cuda.IntTensor"
   ]
  },
  {
   "cell_type": "code",
   "execution_count": null,
   "metadata": {
    "collapsed": true
   },
   "outputs": [],
   "source": [
    "def plot_confusion_matrix(cm, classes, normalize=False, title='Confusion matrix', cmap=plt.cm.Blues):\n",
    "    if normalize:\n",
    "        cm = cm.astype('float') / cm.sum(axis=1)[:, np.newaxis]\n",
    "        print(\"Normalized confusion matrix\")\n",
    "    else:\n",
    "        print('Confusion matrix, without normalization')\n",
    "\n",
    "    plt.figure(figsize=(10,10))\n",
    "    plt.imshow(cm, interpolation='nearest', cmap=cmap)\n",
    "    plt.title(title)\n",
    "    plt.colorbar()\n",
    "    tick_marks = np.arange(len(classes))\n",
    "    plt.xticks(tick_marks, classes, rotation=45)\n",
    "    plt.yticks(tick_marks, classes)\n",
    "\n",
    "    fmt = '.2f' if normalize else 'd'\n",
    "    thresh = cm.max() / 2.\n",
    "    for i, j in itertools.product(range(cm.shape[0]), range(cm.shape[1])):\n",
    "        plt.text(j, i, format(cm[i, j], fmt), horizontalalignment=\"center\", color=\"white\" if cm[i, j] > thresh else \"black\")\n",
    "    \n",
    "    plt.tight_layout()\n",
    "    plt.ylabel('True label')\n",
    "    plt.xlabel('Predicted label')"
   ]
  },
  {
   "cell_type": "code",
   "execution_count": null,
   "metadata": {
    "collapsed": true
   },
   "outputs": [],
   "source": [
    "M = confusion(model, loader_test, 10)"
   ]
  },
  {
   "cell_type": "code",
   "execution_count": null,
   "metadata": {
    "collapsed": true
   },
   "outputs": [],
   "source": [
    "ClassAcc(M)"
   ]
  },
  {
   "cell_type": "code",
   "execution_count": null,
   "metadata": {
    "collapsed": true
   },
   "outputs": [],
   "source": [
    "plot_confusion_matrix(M,C)\n",
    "plt.savefig('confusion_matrix_Epoch25.pdf')  "
   ]
  },
  {
   "cell_type": "markdown",
   "metadata": {},
   "source": [
    "## Clustering"
   ]
  },
  {
   "cell_type": "code",
   "execution_count": null,
   "metadata": {
    "collapsed": true
   },
   "outputs": [],
   "source": []
  },
  {
   "cell_type": "code",
   "execution_count": null,
   "metadata": {
    "collapsed": true
   },
   "outputs": [],
   "source": [
    "# global images"
   ]
  },
  {
   "cell_type": "code",
   "execution_count": null,
   "metadata": {
    "collapsed": true
   },
   "outputs": [],
   "source": [
    "path= './TempData/ClusterEvaluation_Epoch25'\n",
    "\n",
    "model.eval()\n",
    "with torch.no_grad():\n",
    "    for i, (X, y) in enumerate(loader_test):\n",
    "        print(i)\n",
    "        a = {}\n",
    "        outputs = None\n",
    "\n",
    "        X = X.type(gpu_dtype)\n",
    "        y = y.type(gpu_dtype)\n",
    "\n",
    "        PSO_instance = PSO()\n",
    "        outputs = model(X)\n",
    "    #     preds = torch.argmax(outputs, dim=1)\n",
    "\n",
    "        a={ 'Swarm' : PSO_instance.swarm,    \n",
    "            'label':  y}\n",
    "\n",
    "        with open(path+'Batch:'+str(i)+'.pickle', 'wb') as handle:\n",
    "            pickle.dump(a, handle, protocol=pickle.HIGHEST_PROTOCOL)\n"
   ]
  },
  {
   "cell_type": "code",
   "execution_count": null,
   "metadata": {
    "collapsed": true
   },
   "outputs": [],
   "source": [
    "swarm = []\n",
    "images = []\n",
    "labels = []\n",
    "\n",
    "for i in range(10):\n",
    "    data = None\n",
    "    with open('./TempData/ClusterEvaluationBatch:{}.pickle'.format(i), 'rb') as handle:\n",
    "        data = pickle.load(handle)\n",
    "        swarm.append(data['Swarm']) \n",
    "#         images.append(data['images'])\n",
    "        labels.append(data['label'])"
   ]
  },
  {
   "cell_type": "code",
   "execution_count": null,
   "metadata": {
    "collapsed": true
   },
   "outputs": [],
   "source": [
    "swarm = torch.cat(swarm)"
   ]
  },
  {
   "cell_type": "code",
   "execution_count": null,
   "metadata": {
    "collapsed": true
   },
   "outputs": [],
   "source": [
    "labels = torch.cat(labels)"
   ]
  },
  {
   "cell_type": "code",
   "execution_count": null,
   "metadata": {
    "collapsed": true
   },
   "outputs": [],
   "source": [
    "# images[0].shape"
   ]
  },
  {
   "cell_type": "code",
   "execution_count": null,
   "metadata": {
    "collapsed": true
   },
   "outputs": [],
   "source": [
    "@torch.no_grad()\n",
    "def MY_KMeans(x, y, K=10, Niter=5, metric='manhattan'):\n",
    "    \n",
    "    B = x.shape[0]\n",
    "    P = x.shape[1]   \n",
    "    C = x.shape[2]\n",
    "    H = x.shape[3]\n",
    "    W = x.shape[4]\n",
    "    \n",
    "   \n",
    "    centroid = []    \n",
    "    for i in range(K):                                                            #Choosing random 10 features as centroids\n",
    "        a,b = np.random.randint(B), np.random.randint(P)\n",
    "        centroid.append(x[a,b].unsqueeze(0))\n",
    "    centroid = torch.cat(centroid)\n",
    "    \n",
    "\n",
    "    \n",
    "    labelCluster = [[] for i in range(K)]\n",
    "    ImageIndex = [[] for i in range(K)]\n",
    "    cos = nn.CosineSimilarity(dim=0)                                                   \n",
    "    \n",
    "    \n",
    "    for N in range(Niter):\n",
    "        cluster = [[] for i in range(K)]\n",
    "        \n",
    "        for i in range(B):                                    #B*P data points \n",
    "            for j in range(P):\n",
    "                \n",
    "                particle = x[i,j]  \n",
    "                \n",
    "                \n",
    "                if metric == 'manhattan':\n",
    "                    diff = (centroid - particle.unsqueeze(0).repeat(K,1,1,1)).abs().sum([1,2,3])       #MANHATTAN DISTANCE\n",
    "                elif metric == 'eucledian':\n",
    "                    diff = ((centroid - particle.unsqueeze(0).repeat(K,1,1,1))**2).sum([1,2,3])       #eucledian DISTANCE\n",
    "                elif metric == 'cosine':\n",
    "                    D = []\n",
    "                    for ind in range(K):                                               \n",
    "                        dist = 1 - cos(centroid[ind].flatten(),particle.flatten())                  #Cosine distance\n",
    "                        D.append(dist)\n",
    "                    diff = torch.stack(D)\n",
    "\n",
    "                index = torch.argmin( diff )                                                 #Choosing Closest centroid\n",
    "                cluster[index].append(particle.unsqueeze(0))                                #Expectation\n",
    "                \n",
    "                if N==(Niter-1):\n",
    "                    labelCluster[index].append(int(y[i].item()))\n",
    "                    ImageIndex[index].append([i,j])\n",
    "                \n",
    "        for i,ele in enumerate(cluster):                                                   #Maximisation\n",
    "            if ele == []:\n",
    "                pass\n",
    "            else:\n",
    "                centroid[i] = torch.cat(ele).mean(0)\n",
    "\n",
    "    return centroid, cluster, labelCluster, ImageIndex"
   ]
  },
  {
   "cell_type": "code",
   "execution_count": null,
   "metadata": {
    "collapsed": true
   },
   "outputs": [],
   "source": [
    "Cent, DataCL, labelCL, ImageIndexCL = MY_KMeans(swarm, labels, 10, 10, 'cosine')"
   ]
  },
  {
   "cell_type": "code",
   "execution_count": null,
   "metadata": {
    "collapsed": true
   },
   "outputs": [],
   "source": []
  },
  {
   "cell_type": "code",
   "execution_count": null,
   "metadata": {
    "collapsed": true
   },
   "outputs": [],
   "source": [
    "C = ['plane', 'car' , 'bird', 'cat' , 'deer' , 'dog' , 'frog' , 'horse' , 'ship' , 'truck']"
   ]
  },
  {
   "cell_type": "code",
   "execution_count": null,
   "metadata": {
    "collapsed": true
   },
   "outputs": [],
   "source": [
    "def PrintPurity(labelCL, C):\n",
    "    print('FOUND CLUSTERS HAVE FOLLOWING COMPOSITION \\n')\n",
    "    for i in range(10):\n",
    "        print('Cluster: #' + str(i))\n",
    "        n = len(labelCL[i])\n",
    "        print('Cluster Size: {}'.format(n))\n",
    "        c,f = np.unique(labelCL[i], return_counts=True)\n",
    "        for j in range(len(c)):\n",
    "            print('Class: '+ C[c[j]] + ' \\t |  count: %.d'%(f[j]) + '  |   Purity (percentage): %.2f'%((f[j]/n)*100) )\n",
    "        print('\\n')"
   ]
  },
  {
   "cell_type": "code",
   "execution_count": null,
   "metadata": {
    "collapsed": true
   },
   "outputs": [],
   "source": [
    "PrintPurity(labelCL, C)"
   ]
  },
  {
   "cell_type": "code",
   "execution_count": null,
   "metadata": {
    "collapsed": true
   },
   "outputs": [],
   "source": [
    "# CLUSTER QUALITY"
   ]
  },
  {
   "cell_type": "code",
   "execution_count": null,
   "metadata": {
    "collapsed": true
   },
   "outputs": [],
   "source": [
    "def CreateSilLabels(ImageIndexCL):\n",
    "    B = 10000\n",
    "    P = 5\n",
    "    df = np.zeros((B,P))\n",
    "    for foundlabel, cl in enumerate(ImageIndexCL):\n",
    "        for ele in cl:\n",
    "            df[ele[0],ele[1]] = foundlabel\n",
    "    \n",
    "    return df.flatten() "
   ]
  },
  {
   "cell_type": "code",
   "execution_count": null,
   "metadata": {
    "collapsed": true
   },
   "outputs": [],
   "source": [
    "from sklearn import metrics\n",
    "metrics.silhouette_score(swarm.view(50000,-1).cpu(), CreateSilLabels(ImageIndexCL), metric='cosine')"
   ]
  },
  {
   "cell_type": "code",
   "execution_count": null,
   "metadata": {
    "collapsed": true
   },
   "outputs": [],
   "source": []
  },
  {
   "cell_type": "markdown",
   "metadata": {},
   "source": [
    "### SINGLE CLASS CONSIDERATION "
   ]
  },
  {
   "cell_type": "code",
   "execution_count": null,
   "metadata": {
    "collapsed": true
   },
   "outputs": [],
   "source": [
    "def SliceClass(swarm, labels, Class=0):\n",
    "    indices = [i for i, x in enumerate(labels.cpu()) if x == Class]\n",
    "    return torch.index_select(swarm, 0, torch.tensor(indices, device='cuda')), indices"
   ]
  },
  {
   "cell_type": "code",
   "execution_count": 276,
   "metadata": {
    "collapsed": true
   },
   "outputs": [],
   "source": [
    "Class_swarm, Class_absolut_indices = SliceClass(swarm, labels, 9)\n",
    "classname = 'Ship'"
   ]
  },
  {
   "cell_type": "code",
   "execution_count": 258,
   "metadata": {
    "collapsed": true
   },
   "outputs": [],
   "source": [
    "# C = ['plane', 'car' , 'bird', 'cat' , 'deer' , 'dog' , 'frog' , 'horse' , 'ship' , 'truck']"
   ]
  },
  {
   "cell_type": "code",
   "execution_count": 281,
   "metadata": {
    "collapsed": true
   },
   "outputs": [],
   "source": [
    "ERR = []\n",
    "with torch.no_grad():\n",
    "    for k in range(1,11):\n",
    "        Cent, DataCL, _, ImageIndexCL = MY_KMeans(Class_swarm, torch.ones((1000,1), device='cuda')*6 , k, 5, 'cosine')\n",
    "\n",
    "        err = 0\n",
    "        for i in range(k):\n",
    "            for j in range(len(DataCL[i])):\n",
    "                err+= ((DataCL[i][j] - Cent[i])**2).sum()\n",
    "\n",
    "        ERR.append(err.item())"
   ]
  },
  {
   "cell_type": "code",
   "execution_count": 278,
   "metadata": {
    "collapsed": true
   },
   "outputs": [
    {
     "data": {
      "text/plain": [
       "[<matplotlib.lines.Line2D at 0x7f616ab9ca58>]"
      ]
     },
     "execution_count": 278,
     "metadata": {},
     "output_type": "execute_result"
    },
    {
     "data": {
      "image/png": "[encoded data removed]",
      "text/plain": [
       "<Figure size 432x288 with 1 Axes>"
      ]
     },
     "metadata": {
      "needs_background": "light"
     },
     "output_type": "display_data"
    }
   ],
   "source": [
    "plt.xlabel('#Clusters')\n",
    "plt.ylabel('Intra Cluster Sum of Square')\n",
    "plt.xlim([1,10])\n",
    "plt.plot([ERR[0]] + ERR)"
   ]
  },
  {
   "cell_type": "code",
   "execution_count": 283,
   "metadata": {
    "collapsed": true
   },
   "outputs": [],
   "source": [
    "\n",
    "Cent, DataCL, _, ImageIndexCL = MY_KMeans(x=Class_swarm, y=torch.ones((1000,1), device='cuda')*6 , K=5, Niter=5, metric='cosine')"
   ]
  },
  {
   "cell_type": "code",
   "execution_count": null,
   "metadata": {
    "collapsed": true
   },
   "outputs": [],
   "source": []
  },
  {
   "cell_type": "code",
   "execution_count": 223,
   "metadata": {
    "collapsed": true
   },
   "outputs": [],
   "source": [
    "def ClusterRepImageIndex(Cent, DataCL, ImageIndexCL):\n",
    "    repImageIndex = []\n",
    "    \n",
    "    for i in range(len(Cent)):\n",
    "        centroid = Cent[i]\n",
    "        c_size = len(DataCL[i])\n",
    "        diff = ((torch.cat(DataCL[i]) - Cent[i].repeat(c_size,1,1,1))**2).sum([1,2,3])\n",
    "        repFeture_Index =  torch.topk(diff, k=11, largest=False)[1].cpu().numpy()      #Finds 3 most representative image indices.\n",
    "        \n",
    "        l1 = []      \n",
    "        for ele in repFeture_Index:\n",
    "            imageindex = ImageIndexCL[i][ele][0]\n",
    "            if imageindex not in l1:\n",
    "                l1.append(imageindex)\n",
    "        \n",
    "        repImageIndex.append(l1[:3])\n",
    "    return repImageIndex"
   ]
  },
  {
   "cell_type": "code",
   "execution_count": 224,
   "metadata": {
    "collapsed": true
   },
   "outputs": [],
   "source": [
    "def RandomImageIndex(Rc,CL):\n",
    "    for i,ele in enumerate(CL):\n",
    "        l = list(np.unique([j[0] for j in ele]))\n",
    "\n",
    "        for k in Rc[i]:\n",
    "            l.remove(k)\n",
    "        \n",
    "        if len(l)>=5:\n",
    "            s = random.sample(l,5)\n",
    "        else:\n",
    "            s = l\n",
    "            \n",
    "        Rc[i] = Rc[i] + s\n",
    "    return Rc"
   ]
  },
  {
   "cell_type": "code",
   "execution_count": null,
   "metadata": {
    "collapsed": true
   },
   "outputs": [],
   "source": []
  },
  {
   "cell_type": "code",
   "execution_count": 225,
   "metadata": {
    "collapsed": true
   },
   "outputs": [],
   "source": [
    "def imshow(img , classname, subclusterid, eleid):\n",
    "    img = img / 2 + 0.5     # unnormalize\n",
    "    npimg = img.numpy()\n",
    "    plt.imshow(np.transpose(npimg, (1, 2, 0)))\n",
    "    \n",
    "    path= './TempData/SubClustering_Epoch25_Images/{}/{}/'.format(classname, subclusterid)\n",
    "    \n",
    "    if not os.path.exists(path):\n",
    "        os.makedirs(path)\n",
    "            \n",
    "    plt.savefig(path + '{}.png'.format(eleid))      \n"
   ]
  },
  {
   "cell_type": "code",
   "execution_count": 226,
   "metadata": {
    "collapsed": true
   },
   "outputs": [],
   "source": [
    "it = iter(loader_test)\n",
    "first = next(it)\n",
    "second = next(it)\n",
    "third = next(it)\n",
    "fourth = next(it)\n",
    "fifth = next(it)\n",
    "sixth = next(it)\n",
    "seventh = next(it)\n",
    "eighth = next(it)\n",
    "ninth = next(it)\n",
    "tenth = next(it)\n",
    "FOLDS = [first, second, third, fourth, fifth, sixth, seventh, eighth, ninth, tenth]"
   ]
  },
  {
   "cell_type": "code",
   "execution_count": 227,
   "metadata": {
    "collapsed": true
   },
   "outputs": [],
   "source": [
    "def ManageFolds(N, FOLDS, classname, subclusterid, eleid):\n",
    "    foldNumber=int(N/1000)\n",
    "    fold=FOLDS[foldNumber]\n",
    "    \n",
    "    index = N%1000\n",
    "#     print('Label- ' + str(fold[1][index].item()))\n",
    "    imshow(fold[0][index], classname, subclusterid , eleid)"
   ]
  },
  {
   "cell_type": "code",
   "execution_count": 228,
   "metadata": {
    "collapsed": true
   },
   "outputs": [],
   "source": [
    "def PrintSubClusterImages():\n",
    "    ImageIndexMatrix = RandomImageIndex(ClusterRepImageIndex(Cent, DataCL, ImageIndexCL), ImageIndexCL)\n",
    "\n",
    "    for i in range(len(ImageIndexMatrix)):\n",
    "        for j,ele in enumerate(ImageIndexMatrix[i]):\n",
    "            ManageFolds(Class_absolut_indices[ele], FOLDS, classname, i, j)"
   ]
  },
  {
   "cell_type": "code",
   "execution_count": 284,
   "metadata": {
    "collapsed": true
   },
   "outputs": [
    {
     "data": {
      "image/png": "[encoded data removed]",
      "text/plain": [
       "<Figure size 432x288 with 1 Axes>"
      ]
     },
     "metadata": {
      "needs_background": "light"
     },
     "output_type": "display_data"
    }
   ],
   "source": [
    "PrintSubClusterImages()"
   ]
  }
 ],
 "metadata": {
  "kernelspec": {
   "display_name": "Python 3",
   "language": "python",
   "name": "python3"
  },
  "language_info": {
   "codemirror_mode": {
    "name": "ipython",
    "version": 3
   },
   "file_extension": ".py",
   "mimetype": "text/x-python",
   "name": "python",
   "nbconvert_exporter": "python",
   "pygments_lexer": "ipython3",
   "version": "3.6.9"
  }
 },
 "nbformat": 4,
 "nbformat_minor": 4
}
